{
 "cells": [
  {
   "cell_type": "code",
   "execution_count": 5,
   "id": "6cd3fce9",
   "metadata": {},
   "outputs": [
    {
     "name": "stdout",
     "output_type": "stream",
     "text": [
      "Hej hej\n"
     ]
    }
   ],
   "source": [
    "print(\"Hej hej\")"
   ]
  },
  {
   "cell_type": "code",
   "execution_count": null,
   "id": "e7922b01",
   "metadata": {},
   "outputs": [],
   "source": [
    "print(\"då då\")"
   ]
  },
  {
   "cell_type": "markdown",
   "id": "f23dde25",
   "metadata": {},
   "source": []
  }
 ],
 "metadata": {
  "kernelspec": {
   "display_name": "Python 3 (ipykernel)",
   "language": "python",
   "name": "python3"
  },
  "language_info": {
   "codemirror_mode": {
    "name": "ipython",
    "version": 3
   },
   "file_extension": ".py",
   "mimetype": "text/x-python",
   "name": "python",
   "nbconvert_exporter": "python",
   "pygments_lexer": "ipython3",
   "version": "3.9.13"
  }
 },
 "nbformat": 4,
 "nbformat_minor": 5
}
