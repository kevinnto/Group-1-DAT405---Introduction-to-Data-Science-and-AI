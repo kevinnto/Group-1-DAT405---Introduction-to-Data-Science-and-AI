{
 "cells": [
  {
   "cell_type": "markdown",
   "id": "8b3d403c",
   "metadata": {},
   "source": [
    "Testing testing"
   ]
  },
  {
   "attachments": {},
   "cell_type": "markdown",
   "id": "888a5cb0",
   "metadata": {},
   "source": [
    "# Assignment 1"
   ]
  },
  {
   "cell_type": "markdown",
   "id": "ab9cd9c0",
   "metadata": {},
   "source": [
    "## Task 1"
   ]
  },
  {
   "cell_type": "code",
   "execution_count": null,
   "id": "0c590fd5",
   "metadata": {},
   "outputs": [],
   "source": [
    "#Import packages\n",
    "import matplotlib.pyplot as plt\n",
    "import pandas as pd\n",
    "import numpy as np\n"
   ]
  }
 ],
 "metadata": {
  "kernelspec": {
   "display_name": "Python 3 (ipykernel)",
   "language": "python",
   "name": "python3"
  },
  "language_info": {
   "codemirror_mode": {
    "name": "ipython",
    "version": 3
   },
   "file_extension": ".py",
   "mimetype": "text/x-python",
   "name": "python",
   "nbconvert_exporter": "python",
   "pygments_lexer": "ipython3",
   "version": "3.9.13"
  }
 },
 "nbformat": 4,
 "nbformat_minor": 5
}
