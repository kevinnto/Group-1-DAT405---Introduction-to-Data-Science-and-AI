{
  "nbformat": 4,
  "nbformat_minor": 0,
  "metadata": {
    "kernelspec": {
      "display_name": "Python 3",
      "language": "python",
      "name": "python3"
    },
    "language_info": {
      "codemirror_mode": {
        "name": "ipython",
        "version": 3
      },
      "file_extension": ".py",
      "mimetype": "text/x-python",
      "name": "python",
      "nbconvert_exporter": "python",
      "pygments_lexer": "ipython3",
      "version": "3.7.4"
    },
    "colab": {
      "name": "multi-armed_bandit_intro.ipynb",
      "provenance": []
    }
  },
  "cells": [
    {
      "cell_type": "markdown",
      "metadata": {
        "id": "jEQ2kFHghxn3"
      },
      "source": [
        "# Multi-armed bandits"
      ]
    },
    {
      "cell_type": "markdown",
      "metadata": {
        "id": "0I6CNyjahxn6"
      },
      "source": [
        "[Source](https://stackabuse.com/introduction-to-reinforcement-learning-with-python/)"
      ]
    },
    {
      "cell_type": "code",
      "metadata": {
        "id": "3EGIi18Whxn8"
      },
      "source": [
        "import numpy as np"
      ],
      "execution_count": 1,
      "outputs": []
    },
    {
      "cell_type": "code",
      "metadata": {
        "id": "VbwSv4ophxn-"
      },
      "source": [
        "# Number of bandits\n",
        "k = 3\n",
        "\n",
        "# Epsilon value for exploration\n",
        "eps = 0.1\n",
        "\n",
        "# True probability of winning for each bandit\n",
        "p_bandits = [0.45, 0.40, 0.80]\n"
      ],
      "execution_count": 2,
      "outputs": []
    },
    {
      "cell_type": "code",
      "metadata": {
        "colab": {
          "base_uri": "https://localhost:8080/"
        },
        "id": "afkkVPdrhxn_",
        "outputId": "32287bc7-c5b1-49b3-d8f4-2b38c68281fa"
      },
      "source": [
        "# We use mean reward as the goodness value of an action\n",
        "# Q is the vector of goodness values for the k bandits\n",
        "Q = [0 for _ in range(k)]\n",
        "Q"
      ],
      "execution_count": 3,
      "outputs": [
        {
          "output_type": "execute_result",
          "data": {
            "text/plain": [
              "[0, 0, 0]"
            ]
          },
          "metadata": {},
          "execution_count": 3
        }
      ]
    },
    {
      "cell_type": "code",
      "metadata": {
        "colab": {
          "base_uri": "https://localhost:8080/"
        },
        "id": "50SKuWJOhxoB",
        "outputId": "74900369-2528-4b02-be5b-45337b856018"
      },
      "source": [
        "# This is to keep track of the number of times we try each bandit\n",
        "N = [0 for _ in range(k)]\n",
        "N"
      ],
      "execution_count": 4,
      "outputs": [
        {
          "output_type": "execute_result",
          "data": {
            "text/plain": [
              "[0, 0, 0]"
            ]
          },
          "metadata": {},
          "execution_count": 4
        }
      ]
    },
    {
      "cell_type": "code",
      "metadata": {
        "colab": {
          "base_uri": "https://localhost:8080/",
          "height": 201
        },
        "id": "S6jPg_OMhxoC",
        "outputId": "680467a6-3ec0-40f2-cab8-4c1cecc994b1"
      },
      "source": [
        "\n",
        "def pull(a):\n",
        "    \"\"\"Pull arm of bandit number a and return 1 if win, \n",
        "    else return 0.\"\"\"\n",
        "    if np.random.rand() < p_bandits[a]:\n",
        "        return 1 #win\n",
        "    else:\n",
        "        return 0 #loss\n",
        "\n",
        "while True: #Press the stop button after a few seconds\n",
        "    # Select action\n",
        "    if np.random.rand() > eps:\n",
        "        # Take greedy action most of the time\n",
        "        a = np.argmax(Q)\n",
        "    else:\n",
        "        # Take random action with probability eps\n",
        "        a = np.random.randint(0, k)\n",
        "    \n",
        "    # Collect reward\n",
        "    reward = pull(a)\n",
        "    \n",
        "    # Incremental average\n",
        "    N[a] += 1\n",
        "    Q[a] += 1/N[a] * (reward - Q[a])"
      ],
      "execution_count": 5,
      "outputs": [
        {
          "output_type": "error",
          "ename": "KeyboardInterrupt",
          "evalue": "ignored",
          "traceback": [
            "\u001b[0;31m---------------------------------------------------------------------------\u001b[0m",
            "\u001b[0;31mKeyboardInterrupt\u001b[0m                         Traceback (most recent call last)",
            "\u001b[0;32m<ipython-input-5-cc2db1ee1934>\u001b[0m in \u001b[0;36m<module>\u001b[0;34m()\u001b[0m\n\u001b[1;32m     22\u001b[0m     \u001b[0;31m# Incremental average\u001b[0m\u001b[0;34m\u001b[0m\u001b[0;34m\u001b[0m\u001b[0;34m\u001b[0m\u001b[0m\n\u001b[1;32m     23\u001b[0m     \u001b[0mN\u001b[0m\u001b[0;34m[\u001b[0m\u001b[0ma\u001b[0m\u001b[0;34m]\u001b[0m \u001b[0;34m+=\u001b[0m \u001b[0;36m1\u001b[0m\u001b[0;34m\u001b[0m\u001b[0;34m\u001b[0m\u001b[0m\n\u001b[0;32m---> 24\u001b[0;31m     \u001b[0mQ\u001b[0m\u001b[0;34m[\u001b[0m\u001b[0ma\u001b[0m\u001b[0;34m]\u001b[0m \u001b[0;34m+=\u001b[0m \u001b[0;36m1\u001b[0m\u001b[0;34m/\u001b[0m\u001b[0mN\u001b[0m\u001b[0;34m[\u001b[0m\u001b[0ma\u001b[0m\u001b[0;34m]\u001b[0m \u001b[0;34m*\u001b[0m \u001b[0;34m(\u001b[0m\u001b[0mreward\u001b[0m \u001b[0;34m-\u001b[0m \u001b[0mQ\u001b[0m\u001b[0;34m[\u001b[0m\u001b[0ma\u001b[0m\u001b[0;34m]\u001b[0m\u001b[0;34m)\u001b[0m\u001b[0;34m\u001b[0m\u001b[0;34m\u001b[0m\u001b[0m\n\u001b[0m",
            "\u001b[0;31mKeyboardInterrupt\u001b[0m: "
          ]
        }
      ]
    },
    {
      "cell_type": "code",
      "metadata": {
        "colab": {
          "base_uri": "https://localhost:8080/"
        },
        "id": "b8z_6P-RhxoD",
        "outputId": "156a37ae-616f-4b52-8a92-fabec0fe8dfe"
      },
      "source": [
        "Q"
      ],
      "execution_count": 6,
      "outputs": [
        {
          "output_type": "execute_result",
          "data": {
            "text/plain": [
              "[0.450422611036335, 0.39959314152862796, 0.8004806166541878]"
            ]
          },
          "metadata": {},
          "execution_count": 6
        }
      ]
    },
    {
      "cell_type": "code",
      "metadata": {
        "colab": {
          "base_uri": "https://localhost:8080/"
        },
        "id": "CSPvLk6uhxoE",
        "outputId": "e8dcf6ee-102e-45d7-da70-ec3b44400d0f"
      },
      "source": [
        "N"
      ],
      "execution_count": 7,
      "outputs": [
        {
          "output_type": "execute_result",
          "data": {
            "text/plain": [
              "[92875, 92907, 2599577]"
            ]
          },
          "metadata": {},
          "execution_count": 7
        }
      ]
    },
    {
      "cell_type": "code",
      "metadata": {
        "id": "MJsOJOb5hxoF"
      },
      "source": [
        ""
      ],
      "execution_count": 7,
      "outputs": []
    }
  ]
}