{
 "cells": [
  {
   "attachments": {},
   "cell_type": "markdown",
   "metadata": {
    "id": "-sTsDfIVKsmL"
   },
   "source": [
    "# DAT405/DIT407 Introduction to Data Science and AI \n",
    "## 2022-2023, Reading Period 4\n",
    "## Assignment 4: Spam classification using Naïve Bayes \n",
    "The exercise takes place in this notebook environment.\n",
    "Hints:\n",
    "You can execute certain linux shell commands by prefixing the command with `!`. You can insert Markdown cells and code cells. The first you can use for documenting and explaining your results the second you can use writing code snippets that execute the tasks required.  \n",
    "\n",
    "In this assignment you will implement a Naïve Bayes classifier in Python that will classify emails into spam and non-spam (“ham”) classes.  Your program should be able to train on a given set of spam and “ham” datasets. \n",
    "You will work with the datasets available at https://spamassassin.apache.org/old/publiccorpus/. There are three types of files in this location: \n",
    "-\teasy-ham: non-spam messages typically quite easy to differentiate from spam messages. \n",
    "-\thard-ham: non-spam messages more difficult to differentiate \n",
    "-\tspam: spam messages \n",
    "\n",
    "**Execute the cell below to download and extract the data into the environment of the notebook -- it will take a few seconds.** If you chose to use Jupyter notebooks you will have to run the commands in the cell below on your local computer, with Windows you can use \n",
    "7zip (https://www.7-zip.org/download.html) to decompress the data.\n",
    "\n",
    "**What to submit:** \n",
    "Convert the notebook to a pdf-file and submit it. Make sure all cells are executed so all your code and its results are included. Double check the pdf displays correctly before you submit it."
   ]
  },
  {
   "cell_type": "code",
   "execution_count": 1,
   "metadata": {
    "id": "Wa37fBwRF-xe"
   },
   "outputs": [],
   "source": [
    "# Download and extract data\n",
    "# !wget https://spamassassin.apache.org/old/publiccorpus/20021010_easy_ham.tar.bz2\n",
    "# !wget https://spamassassin.apache.org/old/publiccorpus/20021010_hard_ham.tar.bz2\n",
    "# !wget https://spamassassin.apache.org/old/publiccorpus/20021010_spam.tar.bz2\n",
    "# !tar -xjf 20021010_easy_ham.tar.bz2\n",
    "# !tar -xjf 20021010_hard_ham.tar.bz2\n",
    "# !tar -xjf 20021010_spam.tar.bz2"
   ]
  },
  {
   "cell_type": "markdown",
   "metadata": {
    "id": "tdH1XTepLjZ3"
   },
   "source": [
    "*The* data is now in the three folders `easy_ham`, `hard_ham`, and `spam`."
   ]
  },
  {
   "cell_type": "code",
   "execution_count": 2,
   "metadata": {
    "id": "A53Gw00fBLG2"
   },
   "outputs": [],
   "source": [
    "# !ls -lah"
   ]
  },
  {
   "attachments": {},
   "cell_type": "markdown",
   "metadata": {
    "id": "DGlWPVnSNzT7"
   },
   "source": [
    "### 1. Preprocessing: \n",
    "\n",
    "##### 1.1 Look at a few emails from easy_ham, hard_ham and spam. Do you think you would be able to classify the emails just by inspection? How do you think a succesful model can learn the difference between the different classes of emails?\n"
   ]
  },
  {
   "cell_type": "code",
   "execution_count": 4,
   "metadata": {
    "id": "J2sllUWXKblD"
   },
   "outputs": [
    {
     "name": "stdout",
     "output_type": "stream",
     "text": [
      "From rssfeeds@jmason.org  Mon Sep 30 13:43:46 2002\n",
      "Return-Path: <rssfeeds@example.com>\n",
      "Delivered-To: yyyy@localhost.example.com\n",
      "Received: from localhost (jalapeno [127.0.0.1])\n",
      "\tby jmason.org (Postfix) with ESMTP id AE79816F16\n",
      "\tfor <jm@localhost>; Mon, 30 Sep 2002 13:43:46 +0100 (IST)\n",
      "Received: from jalapeno [127.0.0.1]\n",
      "\tby localhost with IMAP (fetchmail-5.9.0)\n",
      "\tfor jm@localhost (single-drop); Mon, 30 Sep 2002 13:43:46 +0100 (IST)\n",
      "Received: from dogma.slashnull.org (localhost [127.0.0.1]) by\n",
      "    dogma.slashnull.org (8.11.6/8.11.6) with ESMTP id g8U81fg21359 for\n",
      "    <jm@jmason.org>; Mon, 30 Sep 2002 09:01:41 +0100\n",
      "Message-Id: <200209300801.g8U81fg21359@dogma.slashnull.org>\n",
      "To: yyyy@example.com\n",
      "From: gamasutra <rssfeeds@example.com>\n",
      "Subject: Priceless Rubens works stolen in raid on mansion\n",
      "Date: Mon, 30 Sep 2002 08:01:41 -0000\n",
      "Content-Type: text/plain; encoding=utf-8\n",
      "Lines: 6\n",
      "X-Spam-Status: No, hits=-527.4 required=5.0\n",
      "\ttests=AWL,DATE_IN_PAST_03_06,T_URI_COUNT_0_1\n",
      "\tversion=2.50-cvs\n",
      "X-Spam-Level: \n",
      "\n",
      "URL: http://www.newsisfree.com/click/-1,8381145,215/\n",
      "Date: 2002-09-30T03:04:58+01:00\n",
      "\n",
      "*Arts:* Fourth art raid on philanthropist's home once targeted by the IRA and \n",
      "Dublin gangster Martin Cahill.\n",
      "\n",
      "\n",
      "\n",
      "From 102192086381143-17090200005-example.com?zzzz@bounce.tilw.net  Tue Sep 17 17:23:29 2002\n",
      "Return-Path: <102192086381143-17090200005-example.com?zzzz@bounce.tilw.net>\n",
      "Delivered-To: zzzz@localhost.jmason.org\n",
      "Received: from localhost (jalapeno [127.0.0.1])\n",
      "\tby zzzzason.org (Postfix) with ESMTP id 938AE16F03\n",
      "\tfor <zzzz@localhost>; Tue, 17 Sep 2002 17:23:27 +0100 (IST)\n",
      "Received: from jalapeno [127.0.0.1]\n",
      "\tby localhost with IMAP (fetchmail-5.9.0)\n",
      "\tfor zzzz@localhost (single-drop); Tue, 17 Sep 2002 17:23:27 +0100 (IST)\n",
      "Received: from webnote.net (mail.webnote.net [193.120.211.219]) by\n",
      "    dogma.slashnull.org (8.11.6/8.11.6) with ESMTP id g8HGF3C17155 for\n",
      "    <zzzz@jmason.org>; Tue, 17 Sep 2002 17:15:03 +0100\n",
      "Received: from sonic1.tilw.net (sonic1.tilw.net [209.164.4.167]) by\n",
      "    webnote.net (8.9.3/8.9.3) with SMTP id RAA27422 for <zzzz@example.com>;\n",
      "    Tue, 17 Sep 2002 17:15:31 +0100\n",
      "From: CopyYourDVD <atomica2020@hotmail.com>\n",
      "Subject: Friend, Copy ANY DVD or Playstation Game with this software......\n",
      "To: zzzz@example.com\n",
      "X-Owner: atomicDOT;mp*qhwqrwhlqf!frp;8;\n",
      "MIME-Version: 1.0\n",
      "X-RMD-Text: yes\n",
      "Date: Tue, 17 Sep 2002 09:15:32 PST\n",
      "X-Mailer: 2.0-b55-VC_IPA [Aug 20 2002, 12:25:33]\n",
      "Message-Id: <17090200005$102192086381143$1159552220$0@sonic1.tilw.net>\n",
      "Content-Type: multipart/alternative; boundary=\"------------103227703017104\"\n",
      "\n",
      "--------------103227703017104\n",
      "Content-Type: text/plain; charset=us-ascii\n",
      "Content-Transfer-Encoding: 7bit\n",
      "\n",
      "Friend,Now you can copy DVD's and Games\n",
      "http://www.terra.es/personal9/iop1008/\n",
      "\n",
      "BACKUP DVD VIDEO's WITH YOUR CD-R BURNER\n",
      "\n",
      "With 321 studio's software, you can now copy\n",
      "any DVD and Playstation Game.  Never buy another \n",
      "backup DVD movie again.  Just copy it!\n",
      "\n",
      "This is the first time this software is being made\n",
      "available to the public. All the software you need \n",
      "to burn your own DVD Video, is included in 321 Studio's \n",
      "software package DVD Copy Plus!  The movies will play \n",
      "in a standard DVD player. With detailed, easy to follow, \n",
      "step-by-step instructions, you can BURN your own DVD \n",
      "Video using nothing more than your DVD-ROM \n",
      "and CD-R drives. Purchase a copy! Click below.\n",
      "\n",
      "http://www.terra.es/personal9/iop1008/\n",
      "\n",
      "Order today and receive!\n",
      "\n",
      "*Step by Step Interactive Instructions\n",
      "*All Software Tools Included On CD\n",
      "*No DVD Burner Required\n",
      "*FREE Live Technical Support\n",
      "*30 Day Risk Free Trial Available\n",
      "\n",
      "With DVD Copy Plus you can backup Your DVD Movies with \n",
      "the same 74min or 80min CD-R's you've used in the past \n",
      "to create audio CD's. Our software compresses the large \n",
      "DVD files on your standard DVD to VCD, SVCD, and DivX \n",
      "much the same way the popular MP3 format compresses audio.  \n",
      "Order today and start burning\n",
      "http://www.terra.es/personal9/iop1008/\n",
      "\n",
      "Thank You,\n",
      "\n",
      "CopymyDVD\n",
      "\n",
      "\n",
      "http://inglesa.net/unsub.php?client=atomicDOT\n",
      "\n",
      "\n",
      "\n",
      "We take your privacy very seriously and it is our policy never to send\n",
      "unwanted email messages. This message has been sent to zzzz@example.com\n",
      "because you originally joined one of our member sites or you signed up\n",
      "with a party that has contracted with atomicDOT. Please\n",
      "http://tilw.net/unsub.php?client=atomicDOT&msgid=17090200005\n",
      "to Unsubscribe (replying to this email WILL NOT unsubscribe you). \n",
      "\n",
      "\n",
      "\n",
      "\n",
      "\n",
      "TRCK:atomicDOT;mp*qhwqrwhlqf!frp;8;\n",
      "\n",
      "\n",
      "\n",
      "--------------103227703017104\n",
      "Content-Type: text/html; charset=us-ascii\n",
      "Content-Transfer-Encoding: 7bit\n",
      "\n",
      "<HTML><HEAD><TITLE>Backup your DVD's</TITLE>\n",
      "<META http-equiv=Content-Type content=\"text/html; charset=iso-8859-1\">\n",
      "<META content=\"MSHTML 6.00.2600.0\" name=GENERATOR></HEAD>\n",
      "\n",
      "\n",
      "<DIV></DIV>\n",
      "<BLOCKQUOTE \n",
      "style=\"PADDING-RIGHT: 0px; PADDING-LEFT: 5px; MARGIN-LEFT: 5px; BORDER-LEFT: #000000 2px solid; MARGIN-RIGHT: 0px\">\n",
      "  <DIV></DIV>\n",
      "  <TABLE cellSpacing=0 cellPadding=0 width=525 align=center bgColor=#ffffff \n",
      "  border=0>\n",
      "\n",
      "    <TBODY> \n",
      "    <TR> \n",
      "      <TD width=\"33\"><IMG height=1 src=\"images/spacer.gif\" width=33 border=0></TD>\n",
      "      <TD width=\"174\"><IMG height=1 src=\"images/spacer.gif\" width=174 border=0></TD>\n",
      "      <TD width=\"360\"><IMG height=1 src=\"images/spacer.gif\" width=360 border=0></TD>\n",
      "      <TD width=\"33\"><IMG height=1 src=\"images/spacer.gif\" width=33 border=0></TD>\n",
      "    </TR>\n",
      "    <TR> \n",
      "      <TD colSpan=4><a href=\"http://www.terra.es/personal9/iop1008/\"><IMG height=253 src=\"http://www.terra.es/personal9/iop1008/images/mailer8_r1_c1.gif\" \n",
      "        width=600 useMap=#Map border=0></a></TD>\n",
      "    </TR>\n",
      "    <TR> \n",
      "      <TD background=http://www.terra.es/personal9/iop1008/images/mailer8_r2_c1.gif height=181> </TD>\n",
      "      <TD vAlign=top align=left colSpan=2 height=181> \n",
      "        <P><FONT face=\"Verdana, Arial, Helvetica, sans-serif\" size=2>With DVDCopyPlus \n",
      "          and PowerCDR5.0 you can copy and burn your</FONT></P>\n",
      "        <UL>\n",
      "          <LI><FONT color=#003399><B><FONT \n",
      "          face=\"Verdana, Arial, Helvetica, sans-serif\" size=2>DVD Movies</FONT></B></FONT> \n",
      "          <LI><FONT color=#003399><B><FONT \n",
      "          face=\"Verdana, Arial, Helvetica, sans-serif\" size=2>Playstation </FONT></B></FONT>\n",
      "          <LI><FONT color=#003399><B><FONT \n",
      "          face=\"Verdana, Arial, Helvetica, sans-serif\" size=2>MP3s, AVIs and all \n",
      "            other multimedia Files</FONT></B></FONT> \n",
      "          <LI><FONT color=#003399><B><FONT \n",
      "          face=\"Verdana, Arial, Helvetica, sans-serif\" size=2>Software, Music \n",
      "            CDs (perfect RAW data duplication)</FONT></B></FONT> \n",
      "          <LI><FONT color=#003399><B><FONT \n",
      "          face=\"Verdana, Arial, Helvetica, sans-serif\" size=2>NEW! Burn to CD-R \n",
      "            or DVD-R</FONT></B></FONT></LI>\n",
      "        </UL>\n",
      "        <P><FONT face=\"Verdana, Arial, Helvetica, sans-serif\" size=2>Protect your \n",
      "          investments by backing up your CD, DVD, MP3, Data and Game collections \n",
      "          with burned copies that really work! Separately, DVDCopyPlus and PowerCDR5.0 \n",
      "          are over $100 worth of software that you can purchase bundled right \n",
      "          now for just $49.99!</FONT></P>\n",
      "        <P align=center><FONT face=\"Verdana, Arial, Helvetica, sans-serif\" \n",
      "        size=2><B><FONT size=5>THAT'S 50% OFF!<BR>\n",
      "          </FONT><A \n",
      "        href=\"http://www.terra.es/personal9/iop1008/\">MORE DETAILS</A> <A \n",
      "        href=\"http://www.terra.es/personal9/iop1008/\">ORDER NOW</A></B></FONT></P>\n",
      "      </TD>\n",
      "      <TD background=http://www.terra.es/personal9/iop1008/images/mailer8_r2_c4.gif height=181> </TD>\n",
      "    </TR>\n",
      "    <TR> \n",
      "      <TD colSpan=4><IMG height=24 src=\"http://www.terra.es/personal9/iop1008/images/mailer8_r3_c1.gif\" \n",
      "        width=600 border=0 name=mailer8_r3_c1></TD>\n",
      "    </TR>\n",
      "    <TR> \n",
      "      <TD height=\"18\"></TD>\n",
      "      <TD></TD>\n",
      "      <TD></TD>\n",
      "      <TD></TD>\n",
      "    </TR>\n",
      "    </TBODY> \n",
      "  </TABLE>\n",
      "  <MAP name=Map><AREA shape=POLY \n",
      "    coords=244,119,270,129,280,114,297,125,318,113,327,129,355,120,352,133,385,131,381,140,398,145,398,152,405,151,397,160,383,165,409,172,381,180,404,193,384,195,382,207,384,212,364,210,351,213,353,224,327,216,317,230,297,219,278,232,269,218,243,225,238,210,211,210,209,202,199,193,216,180,186,172,216,164,192,151,195,143,211,136,211,132,231,135,243,130,243,121 \n",
      "    href=\"http://www.terra.es/personal9/iop1005/\"></MAP><FONT \n",
      "  face=Verdana,Geneva,Arial,Helvetica,sans-serif color=#000000 size=1>\n",
      "  <P> </P></FONT></BLOCKQUOTE></BODY></HTML>\n",
      "<br><br><br><br>\n",
      "<p><font size=\"1\" face=\"Arial\">We take your privacy very seriously and it is our policy never to send unwanted email messages.  This message has been sent to zzzz@example.com because you originally joined one of our member sites or you signed up with a party that has contracted with atomicDOT.  Please <a href=\"http://tilw.net/unsub.php?client=atomicDOT&msgid=17090200005\" TARGET=\"_blank\">Click Here</a></font> to Unsubscribe  <font size=\"1\" face=\"Arial\">(replying to this email WILL NOT unsubscribe you).  <br><br><br><br>\n",
      "\n",
      "<>\n",
      "</body></html><br><br>\n",
      "\n",
      "<img src=\"http://tilw.net/counter.php?client=atomicDOT&email=zzzz@example.com&msgid=17090200005\" width=\"1\" height=\"1\" border=\"0\" alt=\"\">\n",
      "\n",
      "<br><br><br>\n",
      "<font size=\"-5\">TRCK:atomicDOT;mp*qhwqrwhlqf!frp;8;</font>\n",
      "\n",
      "\n",
      "\n",
      "--------------103227703017104--\n",
      "\n",
      "\n",
      "\n"
     ]
    }
   ],
   "source": [
    "import os\n",
    "easy_ham_files = os.listdir('./datasets/easy_ham/')\n",
    "spam_files = os.listdir('./datasets/spam/')\n",
    "easy_ham = []\n",
    "spam = []\n",
    "\n",
    "for file in easy_ham_files:\n",
    "  f = open('./datasets/easy_ham/' + file,  encoding = \"ISO-8859-1\")\n",
    "  easy_ham.append(f.read())\n",
    "for file in spam_files:\n",
    "  f = open('./datasets/spam/' + file,  encoding = \"ISO-8859-1\")\n",
    "  spam.append(f.read())\n",
    "\n",
    "print(easy_ham[0])\n",
    "print(spam[0])\n"
   ]
  },
  {
   "attachments": {},
   "cell_type": "markdown",
   "metadata": {},
   "source": [
    "We think we would be able to classify the mails by looking at them but it would take a long time. We think a model could classify the mails successfully to some degree but some not with 100% accuracy"
   ]
  },
  {
   "attachments": {},
   "cell_type": "markdown",
   "metadata": {},
   "source": [
    "Answer 1.1:"
   ]
  },
  {
   "attachments": {},
   "cell_type": "markdown",
   "metadata": {},
   "source": [
    "##### 1.2 Note that the email files contain a lot of extra information, besides the actual message. Ignore that for now and run on the entire text (in the optional part further down can experiment with filtering out the headers and footers). We don’t want to train and test on the same data (it might help to reflect on why if you don't recall). Split the spam and the ham datasets in a training set and a test set. (`hamtrain`, `spamtrain`, `hamtest`, and `spamtest`). Use only the easy_ham part as ham data for quesions 1 and 2."
   ]
  },
  {
   "cell_type": "code",
   "execution_count": null,
   "metadata": {},
   "outputs": [],
   "source": [
    "# Write your code for here for splitting the data\n",
    "from sklearn.model_selection import train_test_split\n",
    "\n",
    "hamtrain, hamtest = train_test_split(easy_ham, test_size=0.3, random_state=0)\n",
    "spamtrain, spamtest = train_test_split(spam, test_size=0.3, random_state=0)"
   ]
  },
  {
   "attachments": {},
   "cell_type": "markdown",
   "metadata": {
    "id": "mnbrbI0_OKCF"
   },
   "source": [
    "### 2.1 Write a Python program that: \n",
    "1.\tUses the four datasets from Question 1 (`hamtrain`, `spamtrain`, `hamtest`, and `spamtest`) \n",
    "2.\tTrains a Naïve Bayes classifier (use the [scikit-learn library](https://scikit-learn.org/stable/)) on `hamtrain` and `spamtrain`, that classifies the test sets and reports True Positive and False Negative rates on the `hamtest` and `spamtest` datasets. Use `CountVectorizer` ([Documentation here](https://scikit-learn.org/stable/modules/generated/sklearn.feature_extraction.text.CountVectorizer.html#sklearn.feature_extraction.text.CountVectorizer)) to transform the email texts into vectors. Please note that there are different types of Naïve Bayes Classifier in scikit-learn ([Documentation here](https://scikit-learn.org/stable/modules/naive_bayes.html)). Test two of these classifiers that are well suited for this problem:\n",
    "- Multinomial Naive Bayes  \n",
    "- Bernoulli Naive Bayes. \n",
    "\n",
    "Please inspect the documentation to ensure input to the classifiers is appropriate before you start coding. \n",
    "\n"
   ]
  },
  {
   "cell_type": "code",
   "execution_count": null,
   "metadata": {
    "id": "MJERHSCcGNaW"
   },
   "outputs": [],
   "source": [
    "# Write your code here\n",
    "#Import Gaussian Naive Bayes model\n",
    "from sklearn.naive_bayes import GaussianNB\n",
    "from sklearn.feature_extraction.text import CountVectorizer\n",
    "from sklearn import metrics\n",
    "from sklearn.naive_bayes import MultinomialNB, BernoulliNB\n",
    "from sklearn.metrics import confusion_matrix\n",
    "\n",
    "\n",
    "# vectorize the text\n",
    "vect = CountVectorizer()\n",
    "vect.fit(hamtrain)\n",
    "\n",
    "# transform the text into matrixes\n",
    "hamtrain_matrix = vect.transform(hamtrain)\n",
    "hamtest_matrix = vect.transform(hamtest)\n",
    "spamtrain_matrix = vect.transform(spamtrain)\n",
    "spamtest_matrix= vect.transform(spamtest)\n",
    "\n",
    "# create the target matrixes\n",
    "ham_target = ['ham'] * len(hamtrain)\n",
    "spam_target = ['spam'] * len(spamtrain)\n",
    "\n",
    "# create the multinomial naive bayes model and train it\n",
    "mnb = MultinomialNB()\n",
    "mnb.partial_fit(hamtrain_matrix, ham_target, classes=['ham', 'spam'])\n",
    "mnb.partial_fit(spamtrain_matrix, spam_target)\n",
    "\n",
    "# create the bernoulli naive bayes model and train it\n",
    "bnb = BernoulliNB()\n",
    "bnb.partial_fit(hamtrain_matrix, ham_target, classes=['ham', 'spam'])\n",
    "bnb.partial_fit(spamtrain_matrix, spam_target)\n",
    "\n",
    "# test the multinominal model with the test data\n",
    "print(\"Multinomial Naive Bayes On Easy Ham Versus Spam:\")\n",
    "\n",
    "    # generate the predictedons for the ham and spam test data\n",
    "mnb_ham_pred = mnb.predict(hamtest_matrix)\n",
    "mnb_spam_pred = mnb.predict(spamtest_matrix)\n",
    "\n",
    "    # generate the target matrixes for the ham and spam test data\n",
    "ham_target = ['ham'] * len(hamtest)\n",
    "spam_target = ['spam'] * len(spamtest)\n",
    "\n",
    "    # generate the confusion matrixes for the ham and spam test data\n",
    "mnb_ham_cm = confusion_matrix(ham_target, mnb_ham_pred)\n",
    "mnb_spam_cm = confusion_matrix(spam_target, mnb_spam_pred)\n",
    "\n",
    "    # calculate the true positive and false negative rates\n",
    "mnb_TP = mnb_ham_cm[0][0]\n",
    "mnb_FN = mnb_spam_cm[1][0]\n",
    "mnb_TPR = mnb_TP/(mnb_TP + mnb_FN)\n",
    "mnb_FNR = 1 - mnb_TPR\n",
    " \n",
    "    # print the results\n",
    "print(\"True Positive Rate:\" + str(mnb_TPR))\n",
    "print(\"False Negative Rate:\" + str(mnb_FNR))\n",
    "\n",
    "# same process as above but for the bernoulli model\n",
    "print(\"Bernoulli Naive Bayes On Easy Ham Versus Spam:\")\n",
    "bnb_ham_pred = bnb.predict(hamtest_matrix)\n",
    "bnb_spam_pred = bnb.predict(spamtest_matrix)\n",
    "bnb_ham_cm = confusion_matrix(ham_target, bnb_ham_pred)\n",
    "bnb_spam_cm = confusion_matrix(spam_target, bnb_spam_pred)\n",
    "bnb_TP = bnb_ham_cm[0][0]\n",
    "bnb_FN = bnb_spam_cm[1][0]\n",
    "bnb_TPR = bnb_TP/(bnb_TP + bnb_FN)\n",
    "bnb_FNR = 1 - bnb_TPR\n",
    "print(\"True Positive Rate:\" + str(bnb_TPR))\n",
    "print(\"False Negative Rate:\" + str(bnb_FNR))\n"
   ]
  },
  {
   "attachments": {},
   "cell_type": "markdown",
   "metadata": {},
   "source": [
    "### 2.2 Answer the following questions:\n",
    "##### a) What does the CountVectorizer do?\n",
    "CountVectorizer converts the text strings into a matrix the have words as coulums and files as rows, where each cell is the cont of a word within the text file. \n",
    "##### b) What is the difference between Multinomial Naive Bayes and Bernoulli Naive Bayes\n",
    "Bernoulli naive bayes can be viewed as binary where it only cares if a worde is used or not i the file. Where as the mulitnomial takes into account how many times each word is used.\n"
   ]
  },
  {
   "attachments": {},
   "cell_type": "markdown",
   "metadata": {
    "id": "wDFS3uFFUcS7"
   },
   "source": [
    "### 3.1 Run the two models:\n",
    "Run (don't retrain) the two models from Question 2 on spam versus hard-ham. Does the performance differ compared to question 2 when the model was run on spam versus easy-ham? If so, why?"
   ]
  },
  {
   "cell_type": "code",
   "execution_count": null,
   "metadata": {
    "id": "gool_zb8Qzzy"
   },
   "outputs": [],
   "source": [
    "# Write your code here"
   ]
  },
  {
   "attachments": {},
   "cell_type": "markdown",
   "metadata": {},
   "source": [
    "Answer 3.1:"
   ]
  },
  {
   "attachments": {},
   "cell_type": "markdown",
   "metadata": {},
   "source": [
    "### 3.2 Retrain\n",
    "Retrain new Multinomial and Bernolli Naive Bayes classifers on the combined (easy+hard) ham and spam. Now evaluate on spam versus hard-ham as in 3.1. Also evaluate on spam versus easy-ham. Compare the performance with question 2 and 3.1. What do you observe?"
   ]
  },
  {
   "cell_type": "code",
   "execution_count": null,
   "metadata": {},
   "outputs": [],
   "source": [
    "# Write your code here"
   ]
  },
  {
   "attachments": {},
   "cell_type": "markdown",
   "metadata": {},
   "source": [
    "Answer 3.2:"
   ]
  },
  {
   "attachments": {},
   "cell_type": "markdown",
   "metadata": {},
   "source": [
    "### 3.3 Further improvements\n",
    "Do you have any suggestions for how performance could be further improved? You don't have to implement them, just present your ideas."
   ]
  },
  {
   "attachments": {},
   "cell_type": "markdown",
   "metadata": {},
   "source": [
    "Answer 3.3:"
   ]
  }
 ],
 "metadata": {
  "colab": {
   "provenance": []
  },
  "kernelspec": {
   "display_name": "Python 3",
   "language": "python",
   "name": "python3"
  },
  "language_info": {
   "codemirror_mode": {
    "name": "ipython",
    "version": 3
   },
   "file_extension": ".py",
   "mimetype": "text/x-python",
   "name": "python",
   "nbconvert_exporter": "python",
   "pygments_lexer": "ipython3",
   "version": "3.9.13"
  },
  "vscode": {
   "interpreter": {
    "hash": "aee8b7b246df8f9039afb4144a1f6fd8d2ca17a180786b69acc140d282b71a49"
   }
  }
 },
 "nbformat": 4,
 "nbformat_minor": 1
}
