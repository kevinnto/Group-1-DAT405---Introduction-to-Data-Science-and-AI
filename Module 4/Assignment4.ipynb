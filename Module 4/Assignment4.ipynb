{
 "cells": [
  {
   "attachments": {},
   "cell_type": "markdown",
   "metadata": {
    "id": "-sTsDfIVKsmL"
   },
   "source": [
    "# DAT405/DIT407 Introduction to Data Science and AI \n",
    "## 2022-2023, Reading Period 4\n",
    "## Assignment 4: Spam classification using Naïve Bayes \n",
    "The exercise takes place in this notebook environment.\n",
    "Hints:\n",
    "You can execute certain linux shell commands by prefixing the command with `!`. You can insert Markdown cells and code cells. The first you can use for documenting and explaining your results the second you can use writing code snippets that execute the tasks required.  \n",
    "\n",
    "In this assignment you will implement a Naïve Bayes classifier in Python that will classify emails into spam and non-spam (“ham”) classes.  Your program should be able to train on a given set of spam and “ham” datasets. \n",
    "You will work with the datasets available at https://spamassassin.apache.org/old/publiccorpus/. There are three types of files in this location: \n",
    "-\teasy-ham: non-spam messages typically quite easy to differentiate from spam messages. \n",
    "-\thard-ham: non-spam messages more difficult to differentiate \n",
    "-\tspam: spam messages \n",
    "\n",
    "**Execute the cell below to download and extract the data into the environment of the notebook -- it will take a few seconds.** If you chose to use Jupyter notebooks you will have to run the commands in the cell below on your local computer, with Windows you can use \n",
    "7zip (https://www.7-zip.org/download.html) to decompress the data.\n",
    "\n",
    "**What to submit:** \n",
    "Convert the notebook to a pdf-file and submit it. Make sure all cells are executed so all your code and its results are included. Double check the pdf displays correctly before you submit it."
   ]
  },
  {
   "cell_type": "code",
   "execution_count": 6,
   "metadata": {
    "id": "Wa37fBwRF-xe"
   },
   "outputs": [
    {
     "name": "stderr",
     "output_type": "stream",
     "text": [
      "--2023-04-21 14:19:18--  https://spamassassin.apache.org/old/publiccorpus/20021010_easy_ham.tar.bz2\n",
      "Resolving spamassassin.apache.org (spamassassin.apache.org)... 151.101.2.132\n",
      "Connecting to spamassassin.apache.org (spamassassin.apache.org)|151.101.2.132|:443... connected.\n",
      "HTTP request sent, awaiting response... 200 OK\n",
      "Length: 1677144 (1,6M) [application/x-bzip2]\n",
      "Saving to: '20021010_easy_ham.tar.bz2'\n",
      "\n",
      "     0K .......... .......... .......... .......... ..........  3% 10,1M 0s\n",
      "    50K .......... .......... .......... .......... ..........  6% 2,45M 0s\n",
      "   100K .......... .......... .......... .......... ..........  9% 3,29M 0s\n",
      "   150K .......... .......... .......... .......... .......... 12% 2,55M 0s\n",
      "   200K .......... .......... .......... .......... .......... 15% 2,54M 0s\n",
      "   250K .......... .......... .......... .......... .......... 18% 2,87M 0s\n",
      "   300K .......... .......... .......... .......... .......... 21% 2,06M 0s\n",
      "   350K .......... .......... .......... .......... .......... 24% 2,82M 0s\n",
      "   400K .......... .......... .......... .......... .......... 27% 1,40M 0s\n",
      "   450K .......... .......... .......... .......... .......... 30% 2,09M 0s\n",
      "   500K .......... .......... .......... .......... .......... 33% 4,30M 0s\n",
      "   550K .......... .......... .......... .......... .......... 36% 3,19M 0s\n",
      "   600K .......... .......... .......... .......... .......... 39% 2,53M 0s\n",
      "   650K .......... .......... .......... .......... .......... 42% 1,46M 0s\n",
      "   700K .......... .......... .......... .......... .......... 45% 2,54M 0s\n",
      "   750K .......... .......... .......... .......... .......... 48% 2,58M 0s\n",
      "   800K .......... .......... .......... .......... .......... 51% 2,80M 0s\n",
      "   850K .......... .......... .......... .......... .......... 54% 2,54M 0s\n",
      "   900K .......... .......... .......... .......... .......... 58% 2,65M 0s\n",
      "   950K .......... .......... .......... .......... .......... 61% 2,02M 0s\n",
      "  1000K .......... .......... .......... .......... .......... 64% 2,88M 0s\n",
      "  1050K .......... .......... .......... .......... .......... 67% 2,00M 0s\n",
      "  1100K .......... .......... .......... .......... .......... 70% 3,14M 0s\n",
      "  1150K .......... .......... .......... .......... .......... 73% 2,91M 0s\n",
      "  1200K .......... .......... .......... .......... .......... 76% 2,10M 0s\n",
      "  1250K .......... .......... .......... .......... .......... 79% 2,58M 0s\n",
      "  1300K .......... .......... .......... .......... .......... 82% 1,30M 0s\n",
      "  1350K .......... .......... .......... .......... .......... 85% 1,06M 0s\n",
      "  1400K .......... .......... .......... .......... .......... 88% 2,28M 0s\n",
      "  1450K .......... .......... .......... .......... .......... 91% 1,12M 0s\n",
      "  1500K .......... .......... .......... .......... .......... 94% 2,21M 0s\n",
      "  1550K .......... .......... .......... .......... .......... 97% 1,85M 0s\n",
      "  1600K .......... .......... .......... .......              100% 1,58M=0,7s\n",
      "\n",
      "2023-04-21 14:19:19 (2,20 MB/s) - '20021010_easy_ham.tar.bz2' saved [1677144/1677144]\n",
      "\n",
      "--2023-04-21 14:19:20--  https://spamassassin.apache.org/old/publiccorpus/20021010_hard_ham.tar.bz2\n",
      "Resolving spamassassin.apache.org (spamassassin.apache.org)... 151.101.2.132\n",
      "Connecting to spamassassin.apache.org (spamassassin.apache.org)|151.101.2.132|:443... connected.\n",
      "HTTP request sent, awaiting response... 200 OK\n",
      "Length: 1021126 (997K) [application/x-bzip2]\n",
      "Saving to: '20021010_hard_ham.tar.bz2'\n",
      "\n",
      "     0K .......... .......... .......... .......... ..........  5% 7,95M 0s\n",
      "    50K .......... .......... .......... .......... .......... 10% 9,12M 0s\n",
      "   100K .......... .......... .......... .......... .......... 15% 13,7M 0s\n",
      "   150K .......... .......... .......... .......... .......... 20% 4,80M 0s\n",
      "   200K .......... .......... .......... .......... .......... 25% 2,01M 0s\n",
      "   250K .......... .......... .......... .......... .......... 30% 2,50M 0s\n",
      "   300K .......... .......... .......... .......... .......... 35% 1020K 0s\n",
      "   350K .......... .......... .......... .......... .......... 40% 2,16M 0s\n",
      "   400K .......... .......... .......... .......... .......... 45% 2,08M 0s\n",
      "   450K .......... .......... .......... .......... .......... 50% 1,04M 0s\n",
      "   500K .......... .......... .......... .......... .......... 55% 7,28M 0s\n",
      "   550K .......... .......... .......... .......... .......... 60%  857K 0s\n",
      "   600K .......... .......... .......... .......... .......... 65% 2,00M 0s\n",
      "   650K .......... .......... .......... .......... .......... 70% 1,02M 0s\n",
      "   700K .......... .......... .......... .......... .......... 75% 2,86M 0s\n",
      "   750K .......... .......... .......... .......... .......... 80% 2,85M 0s\n",
      "   800K .......... .......... .......... .......... .......... 85% 3,20M 0s\n",
      "   850K .......... .......... .......... .......... .......... 90% 1,37M 0s\n",
      "   900K .......... .......... .......... .......... .......... 95% 2,32M 0s\n",
      "   950K .......... .......... .......... .......... .......   100% 2,16M=0,5s\n",
      "\n",
      "2023-04-21 14:19:20 (2,05 MB/s) - '20021010_hard_ham.tar.bz2' saved [1021126/1021126]\n",
      "\n",
      "--2023-04-21 14:19:20--  https://spamassassin.apache.org/old/publiccorpus/20021010_spam.tar.bz2\n",
      "Resolving spamassassin.apache.org (spamassassin.apache.org)... 151.101.2.132\n",
      "Connecting to spamassassin.apache.org (spamassassin.apache.org)|151.101.2.132|:443... connected.\n",
      "HTTP request sent, awaiting response... 200 OK\n",
      "Length: 1192582 (1,1M) [application/x-bzip2]\n",
      "Saving to: '20021010_spam.tar.bz2'\n",
      "\n",
      "     0K .......... .......... .......... .......... ..........  4% 13,2M 0s\n",
      "    50K .......... .......... .......... .......... ..........  8% 14,9M 0s\n",
      "   100K .......... .......... .......... .......... .......... 12% 2,61M 0s\n",
      "   150K .......... .......... .......... .......... .......... 17%  971K 0s\n",
      "   200K .......... .......... .......... .......... .......... 21% 2,73M 0s\n",
      "   250K .......... .......... .......... .......... .......... 25% 2,39M 0s\n",
      "   300K .......... .......... .......... .......... .......... 30% 1,10M 0s\n",
      "   350K .......... .......... .......... .......... .......... 34% 1,36M 0s\n",
      "   400K .......... .......... .......... .......... .......... 38% 1,62M 0s\n",
      "   450K .......... .......... .......... .......... .......... 42% 3,10M 0s\n",
      "   500K .......... .......... .......... .......... .......... 47% 2,11M 0s\n",
      "   550K .......... .......... .......... .......... .......... 51% 1,11M 0s\n",
      "   600K .......... .......... .......... .......... .......... 55% 2,11M 0s\n",
      "   650K .......... .......... .......... .......... .......... 60%  989K 0s\n",
      "   700K .......... .......... .......... .......... .......... 64% 2,81M 0s\n",
      "   750K .......... .......... .......... .......... .......... 68% 1,15M 0s\n",
      "   800K .......... .......... .......... .......... .......... 72% 2,44M 0s\n",
      "   850K .......... .......... .......... .......... .......... 77% 2,98M 0s\n",
      "   900K .......... .......... .......... .......... .......... 81% 1,16M 0s\n",
      "   950K .......... .......... .......... .......... .......... 85% 2,72M 0s\n",
      "  1000K .......... .......... .......... .......... .......... 90% 2,24M 0s\n",
      "  1050K .......... .......... .......... .......... .......... 94% 1,23M 0s\n",
      "  1100K .......... .......... .......... .......... .......... 98% 2,12M 0s\n",
      "  1150K .......... ....                                       100% 21,3M=0,6s\n",
      "\n",
      "2023-04-21 14:19:21 (1,82 MB/s) - '20021010_spam.tar.bz2' saved [1192582/1192582]\n",
      "\n"
     ]
    }
   ],
   "source": [
    "#Download and extract data\n",
    "!wget https://spamassassin.apache.org/old/publiccorpus/20021010_easy_ham.tar.bz2\n",
    "!wget https://spamassassin.apache.org/old/publiccorpus/20021010_hard_ham.tar.bz2\n",
    "!wget https://spamassassin.apache.org/old/publiccorpus/20021010_spam.tar.bz2\n",
    "!tar -xjf 20021010_easy_ham.tar.bz2\n",
    "!tar -xjf 20021010_hard_ham.tar.bz2\n",
    "!tar -xjf 20021010_spam.tar.bz2"
   ]
  },
  {
   "cell_type": "markdown",
   "metadata": {
    "id": "tdH1XTepLjZ3"
   },
   "source": [
    "*The* data is now in the three folders `easy_ham`, `hard_ham`, and `spam`."
   ]
  },
  {
   "cell_type": "code",
   "execution_count": 87,
   "metadata": {
    "id": "A53Gw00fBLG2"
   },
   "outputs": [
    {
     "name": "stderr",
     "output_type": "stream",
     "text": [
      "'ls' is not recognized as an internal or external command,\n",
      "operable program or batch file.\n"
     ]
    }
   ],
   "source": [
    "!ls -lah"
   ]
  },
  {
   "attachments": {},
   "cell_type": "markdown",
   "metadata": {
    "id": "DGlWPVnSNzT7"
   },
   "source": [
    "### 1. Preprocessing: \n",
    "\n",
    "##### 1.1 Look at a few emails from easy_ham, hard_ham and spam. Do you think you would be able to classify the emails just by inspection? How do you think a succesful model can learn the difference between the different classes of emails?\n"
   ]
  },
  {
   "cell_type": "code",
   "execution_count": 102,
   "metadata": {
    "id": "J2sllUWXKblD"
   },
   "outputs": [
    {
     "name": "stdout",
     "output_type": "stream",
     "text": [
      "From Steve_Burt@cursor-system.com  Thu Aug 22 12:46:39 2002\n",
      "Return-Path: <Steve_Burt@cursor-system.com>\n",
      "Delivered-To: zzzz@localhost.netnoteinc.com\n",
      "Received: from localhost (localhost [127.0.0.1])\n",
      "\tby phobos.labs.netnoteinc.com (Postfix) with ESMTP id BE12E43C34\n",
      "\tfor <zzzz@localhost>; Thu, 22 Aug 2002 07:46:38 -0400 (EDT)\n",
      "Received: from phobos [127.0.0.1]\n",
      "\tby localhost with IMAP (fetchmail-5.9.0)\n",
      "\tfor zzzz@localhost (single-drop); Thu, 22 Aug 2002 12:46:38 +0100 (IST)\n",
      "Received: from n20.grp.scd.yahoo.com (n20.grp.scd.yahoo.com\n",
      "    [66.218.66.76]) by dogma.slashnull.org (8.11.6/8.11.6) with SMTP id\n",
      "    g7MBkTZ05087 for <zzzz@example.com>; Thu, 22 Aug 2002 12:46:29 +0100\n",
      "X-Egroups-Return: sentto-2242572-52726-1030016790-zzzz=example.com@returns.groups.yahoo.com\n",
      "Received: from [66.218.67.196] by n20.grp.scd.yahoo.com with NNFMP;\n",
      "    22 Aug 2002 11:46:30 -0000\n",
      "X-Sender: steve.burt@cursor-system.com\n",
      "X-Apparently-To: zzzzteana@yahoogroups.com\n",
      "Received: (EGP: mail-8_1_0_1); 22 Aug 2002 11:46:29 -0000\n",
      "Received: (qmail 11764 invoked from network); 22 Aug 2002 11:46:29 -0000\n",
      "Received: from unknown (66.218.66.217) by m3.grp.scd.yahoo.com with QMQP;\n",
      "    22 Aug 2002 11:46:29 -0000\n",
      "Received: from unknown (HELO mailgateway.cursor-system.com) (62.189.7.27)\n",
      "    by mta2.grp.scd.yahoo.com with SMTP; 22 Aug 2002 11:46:29 -0000\n",
      "Received: from exchange1.cps.local (unverified) by\n",
      "    mailgateway.cursor-system.com (Content Technologies SMTPRS 4.2.10) with\n",
      "    ESMTP id <T5cde81f695ac1d100407d@mailgateway.cursor-system.com> for\n",
      "    <forteana@yahoogroups.com>; Thu, 22 Aug 2002 13:14:10 +0100\n",
      "Received: by exchange1.cps.local with Internet Mail Service (5.5.2653.19)\n",
      "    id <PXX6AT23>; Thu, 22 Aug 2002 12:46:27 +0100\n",
      "Message-Id: <5EC2AD6D2314D14FB64BDA287D25D9EF12B4F6@exchange1.cps.local>\n",
      "To: \"'zzzzteana@yahoogroups.com'\" <zzzzteana@yahoogroups.com>\n",
      "X-Mailer: Internet Mail Service (5.5.2653.19)\n",
      "X-Egroups-From: Steve Burt <steve.burt@cursor-system.com>\n",
      "From: Steve Burt <Steve_Burt@cursor-system.com>\n",
      "X-Yahoo-Profile: pyruse\n",
      "MIME-Version: 1.0\n",
      "Mailing-List: list zzzzteana@yahoogroups.com; contact\n",
      "    forteana-owner@yahoogroups.com\n",
      "Delivered-To: mailing list zzzzteana@yahoogroups.com\n",
      "Precedence: bulk\n",
      "List-Unsubscribe: <mailto:zzzzteana-unsubscribe@yahoogroups.com>\n",
      "Date: Thu, 22 Aug 2002 12:46:18 +0100\n",
      "Subject: [zzzzteana] RE: Alexander\n",
      "Reply-To: zzzzteana@yahoogroups.com\n",
      "Content-Type: text/plain; charset=US-ASCII\n",
      "Content-Transfer-Encoding: 7bit\n",
      "\n",
      "Martin A posted:\n",
      "Tassos Papadopoulos, the Greek sculptor behind the plan, judged that the\n",
      " limestone of Mount Kerdylio, 70 miles east of Salonika and not far from the\n",
      " Mount Athos monastic community, was ideal for the patriotic sculpture. \n",
      " \n",
      " As well as Alexander's granite features, 240 ft high and 170 ft wide, a\n",
      " museum, a restored amphitheatre and car park for admiring crowds are\n",
      "planned\n",
      "---------------------\n",
      "So is this mountain limestone or granite?\n",
      "If it's limestone, it'll weather pretty fast.\n",
      "\n",
      "------------------------ Yahoo! Groups Sponsor ---------------------~-->\n",
      "4 DVDs Free +s&p Join Now\n",
      "http://us.click.yahoo.com/pt6YBB/NXiEAA/mG3HAA/7gSolB/TM\n",
      "---------------------------------------------------------------------~->\n",
      "\n",
      "To unsubscribe from this group, send an email to:\n",
      "forteana-unsubscribe@egroups.com\n",
      "\n",
      " \n",
      "\n",
      "Your use of Yahoo! Groups is subject to http://docs.yahoo.com/info/terms/ \n",
      "\n",
      "\n",
      "\n",
      "\n",
      "From 12a1mailbot1@web.de  Thu Aug 22 13:17:22 2002\n",
      "Return-Path: <12a1mailbot1@web.de>\n",
      "Delivered-To: zzzz@localhost.example.com\n",
      "Received: from localhost (localhost [127.0.0.1])\n",
      "\tby phobos.labs.example.com (Postfix) with ESMTP id 136B943C32\n",
      "\tfor <zzzz@localhost>; Thu, 22 Aug 2002 08:17:21 -0400 (EDT)\n",
      "Received: from mail.webnote.net [193.120.211.219]\n",
      "\tby localhost with POP3 (fetchmail-5.9.0)\n",
      "\tfor zzzz@localhost (single-drop); Thu, 22 Aug 2002 13:17:21 +0100 (IST)\n",
      "Received: from dd_it7 ([210.97.77.167])\n",
      "\tby webnote.net (8.9.3/8.9.3) with ESMTP id NAA04623\n",
      "\tfor <zzzz@example.com>; Thu, 22 Aug 2002 13:09:41 +0100\n",
      "From: 12a1mailbot1@web.de\n",
      "Received: from r-smtp.korea.com - 203.122.2.197 by dd_it7  with Microsoft SMTPSVC(5.5.1775.675.6);\n",
      "\t Sat, 24 Aug 2002 09:42:10 +0900\n",
      "To: <dcek1a1@netsgo.com>\n",
      "Subject: Life Insurance - Why Pay More?\n",
      "Date: Wed, 21 Aug 2002 20:31:57 -1600\n",
      "MIME-Version: 1.0\n",
      "Message-ID: <0103c1042001882DD_IT7@dd_it7>\n",
      "Content-Type: text/html; charset=\"iso-8859-1\"\n",
      "Content-Transfer-Encoding: quoted-printable\n",
      "\n",
      "<!DOCTYPE HTML PUBLIC \"-//W3C//DTD HTML 4.0 Transitional//EN\">\n",
      "<HTML><HEAD>\n",
      "<META content=3D\"text/html; charset=3Dwindows-1252\" http-equiv=3DContent-T=\n",
      "ype>\n",
      "<META content=3D\"MSHTML 5.00.2314.1000\" name=3DGENERATOR></HEAD>\n",
      "<BODY><!-- Inserted by Calypso -->\n",
      "<TABLE border=3D0 cellPadding=3D0 cellSpacing=3D2 id=3D_CalyPrintHeader_ r=\n",
      "ules=3Dnone \n",
      "style=3D\"COLOR: black; DISPLAY: none\" width=3D\"100%\">\n",
      "  <TBODY>\n",
      "  <TR>\n",
      "    <TD colSpan=3D3>\n",
      "      <HR color=3Dblack noShade SIZE=3D1>\n",
      "    </TD></TR></TD></TR>\n",
      "  <TR>\n",
      "    <TD colSpan=3D3>\n",
      "      <HR color=3Dblack noShade SIZE=3D1>\n",
      "    </TD></TR></TBODY></TABLE><!-- End Calypso --><!-- Inserted by Calypso=\n",
      " --><FONT \n",
      "color=3D#000000 face=3DVERDANA,ARIAL,HELVETICA size=3D-2><BR></FONT></TD><=\n",
      "/TR></TABLE><!-- End Calypso --><FONT color=3D#ff0000 \n",
      "face=3D\"Copperplate Gothic Bold\" size=3D5 PTSIZE=3D\"10\">\n",
      "<CENTER>Save up to 70% on Life Insurance.</CENTER></FONT><FONT color=3D#ff=\n",
      "0000 \n",
      "face=3D\"Copperplate Gothic Bold\" size=3D5 PTSIZE=3D\"10\">\n",
      "<CENTER>Why Spend More Than You Have To?\n",
      "<CENTER><FONT color=3D#ff0000 face=3D\"Copperplate Gothic Bold\" size=3D5 PT=\n",
      "SIZE=3D\"10\">\n",
      "<CENTER>Life Quote Savings\n",
      "<CENTER>\n",
      "<P align=3Dleft></P>\n",
      "<P align=3Dleft></P></FONT></U></I></B><BR></FONT></U></B></U></I>\n",
      "<P></P>\n",
      "<CENTER>\n",
      "<TABLE border=3D0 borderColor=3D#111111 cellPadding=3D0 cellSpacing=3D0 wi=\n",
      "dth=3D650>\n",
      "  <TBODY></TBODY></TABLE>\n",
      "<TABLE border=3D0 borderColor=3D#111111 cellPadding=3D5 cellSpacing=3D0 wi=\n",
      "dth=3D650>\n",
      "  <TBODY>\n",
      "  <TR>\n",
      "    <TD colSpan=3D2 width=3D\"35%\"><B><FONT face=3DVerdana size=3D4>Ensurin=\n",
      "g your \n",
      "      family's financial security is very important. Life Quote Savings ma=\n",
      "kes \n",
      "      buying life insurance simple and affordable. We Provide FREE Access =\n",
      "to The \n",
      "      Very Best Companies and The Lowest Rates.</FONT></B></TD></TR>\n",
      "  <TR>\n",
      "    <TD align=3Dmiddle vAlign=3Dtop width=3D\"18%\">\n",
      "      <TABLE borderColor=3D#111111 width=3D\"100%\">\n",
      "        <TBODY>\n",
      "        <TR>\n",
      "          <TD style=3D\"PADDING-LEFT: 5px; PADDING-RIGHT: 5px\" width=3D\"100=\n",
      "%\"><FONT \n",
      "            face=3DVerdana size=3D4><B>Life Quote Savings</B> is FAST, EAS=\n",
      "Y and \n",
      "            SAVES you money! Let us help you get started with the best val=\n",
      "ues in \n",
      "            the country on new coverage. You can SAVE hundreds or even tho=\n",
      "usands \n",
      "            of dollars by requesting a FREE quote from Lifequote Savings. =\n",
      "Our \n",
      "            service will take you less than 5 minutes to complete. Shop an=\n",
      "d \n",
      "            compare. SAVE up to 70% on all types of Life insurance! \n",
      "</FONT></TD></TR>\n",
      "        <TR><BR><BR>\n",
      "          <TD height=3D50 style=3D\"PADDING-LEFT: 5px; PADDING-RIGHT: 5px\" \n",
      "          width=3D\"100%\">\n",
      "            <P align=3Dcenter><B><FONT face=3DVerdana size=3D5><A \n",
      "            href=3D\"http://website.e365.cc/savequote/\">Click Here For Your=\n",
      " \n",
      "            Free Quote!</A></FONT></B></P></TD>\n",
      "          <P><FONT face=3DVerdana size=3D4><STRONG>\n",
      "          <CENTER>Protecting your family is the best investment you'll eve=\n",
      "r \n",
      "          make!<BR></B></TD></TR>\n",
      "        <TR><BR><BR></STRONG></FONT></TD></TR></TD></TR>\n",
      "        <TR></TR></TBODY></TABLE>\n",
      "      <P align=3Dleft><FONT face=3D\"Arial, Helvetica, sans-serif\" size=3D2=\n",
      "></FONT></P>\n",
      "      <P></P>\n",
      "      <CENTER><BR><BR><BR>\n",
      "      <P></P>\n",
      "      <P align=3Dleft><BR></B><BR><BR><BR><BR></P>\n",
      "      <P align=3Dcenter><BR></P>\n",
      "      <P align=3Dleft><BR></B><BR><BR></FONT>If you are in receipt of this=\n",
      " email \n",
      "      in error and/or wish to be removed from our list, <A \n",
      "      href=3D\"mailto:coins@btamail.net.cn\">PLEASE CLICK HERE</A> AND TYPE =\n",
      "REMOVE. If you \n",
      "      reside in any state which prohibits e-mail solicitations for insuran=\n",
      "ce, \n",
      "      please disregard this \n",
      "      email.<BR></FONT><BR><BR><BR><BR><BR><BR><BR><BR><BR><BR><BR><BR><BR=\n",
      "><BR><BR><BR></FONT></P></CENTER></CENTER></TR></TBODY></TABLE></CENTER></=\n",
      "CENTER></CENTER></CENTER></CENTER></BODY></HTML>\n",
      "\n",
      "\n",
      "\n",
      "\n"
     ]
    }
   ],
   "source": [
    "import os\n",
    "easy_ham_files = os.listdir('./datasets/easy_ham/')\n",
    "spam_files = os.listdir('./datasets/spam/')\n",
    "easy_ham = []\n",
    "spam = []\n",
    "for file in easy_ham_files:\n",
    "  f = open('./datasets/easy_ham/' + file,  encoding = \"ISO-8859-1\")\n",
    "  easy_ham.append(f.read())\n",
    "for file in spam_files:\n",
    "  f = open('./datasets/spam/' + file,  encoding = \"ISO-8859-1\")\n",
    "  spam.append(f.read())\n",
    "\n",
    "print(easy_ham[1])\n",
    "print(spam[1])\n"
   ]
  },
  {
   "attachments": {},
   "cell_type": "markdown",
   "metadata": {},
   "source": [
    "We think we would be able to classify the mails by looking at them but it would take a long time. We think a model could classify the mails successfully to some degree but some not with 100% accuracy"
   ]
  },
  {
   "attachments": {},
   "cell_type": "markdown",
   "metadata": {},
   "source": [
    "Answer 1.1:"
   ]
  },
  {
   "attachments": {},
   "cell_type": "markdown",
   "metadata": {},
   "source": [
    "##### 1.2 Note that the email files contain a lot of extra information, besides the actual message. Ignore that for now and run on the entire text (in the optional part further down can experiment with filtering out the headers and footers). We don’t want to train and test on the same data (it might help to reflect on why if you don't recall). Split the spam and the ham datasets in a training set and a test set. (`hamtrain`, `spamtrain`, `hamtest`, and `spamtest`). Use only the easy_ham part as ham data for quesions 1 and 2."
   ]
  },
  {
   "cell_type": "code",
   "execution_count": null,
   "metadata": {},
   "outputs": [],
   "source": [
    "# Write your code for here for splitting the data\n",
    "from sklearn.model_selection import train_test_split\n",
    "\n",
    "hamtrain, hamtest = train_test_split(easy_ham, test_size=0.3, random_state=0)\n",
    "spamtrain, spamtest = train_test_split(spam, test_size=0.3, random_state=0)"
   ]
  },
  {
   "attachments": {},
   "cell_type": "markdown",
   "metadata": {
    "id": "mnbrbI0_OKCF"
   },
   "source": [
    "### 2.1 Write a Python program that: \n",
    "1.\tUses the four datasets from Question 1 (`hamtrain`, `spamtrain`, `hamtest`, and `spamtest`) \n",
    "2.\tTrains a Naïve Bayes classifier (use the [scikit-learn library](https://scikit-learn.org/stable/)) on `hamtrain` and `spamtrain`, that classifies the test sets and reports True Positive and False Negative rates on the `hamtest` and `spamtest` datasets. Use `CountVectorizer` ([Documentation here](https://scikit-learn.org/stable/modules/generated/sklearn.feature_extraction.text.CountVectorizer.html#sklearn.feature_extraction.text.CountVectorizer)) to transform the email texts into vectors. Please note that there are different types of Naïve Bayes Classifier in scikit-learn ([Documentation here](https://scikit-learn.org/stable/modules/naive_bayes.html)). Test two of these classifiers that are well suited for this problem:\n",
    "- Multinomial Naive Bayes  \n",
    "- Bernoulli Naive Bayes. \n",
    "\n",
    "Please inspect the documentation to ensure input to the classifiers is appropriate before you start coding. \n",
    "\n"
   ]
  },
  {
   "cell_type": "code",
   "execution_count": 104,
   "metadata": {
    "id": "MJERHSCcGNaW"
   },
   "outputs": [
    {
     "name": "stdout",
     "output_type": "stream",
     "text": [
      "Multinomial Naive Bayes On Easy Ham Versus Spam:\n",
      "True Positive Rate:0.9795134443021767\n",
      "False Negative Rate:0.020486555697823317\n",
      "Bernoulli Naive Bayes On Easy Ham Versus Spam:\n",
      "True Positive Rate:0.9695044472681067\n",
      "False Negative Rate:0.030495552731893305\n"
     ]
    }
   ],
   "source": [
    "# Write your code here\n",
    "#Import Gaussian Naive Bayes model\n",
    "from sklearn.naive_bayes import GaussianNB\n",
    "from sklearn.feature_extraction.text import CountVectorizer\n",
    "from sklearn import metrics\n",
    "from sklearn.naive_bayes import MultinomialNB, BernoulliNB\n",
    "from sklearn.metrics import confusion_matrix\n",
    "#Create a Naïve Bayes Classifier\n",
    "\n",
    "# vectorize the text\n",
    "vect = CountVectorizer()\n",
    "vect.fit(hamtrain)\n",
    "hamtrain_dtm = vect.transform(hamtrain)\n",
    "hamtest_dtm = vect.transform(hamtest)\n",
    "spamtrain_dtm = vect.transform(spamtrain)\n",
    "spamtest_dtm = vect.transform(spamtest)\n",
    "\n",
    "ham_target = ['ham'] * len(hamtrain)\n",
    "spam_target = ['spam'] * len(spamtrain)\n",
    "mnb = MultinomialNB()\n",
    "mnb.partial_fit(hamtrain_dtm, ham_target, classes=['ham', 'spam'])\n",
    "mnb.partial_fit(spamtrain_dtm, spam_target)\n",
    "bnb = BernoulliNB()\n",
    "bnb.partial_fit(hamtrain_dtm, ham_target, classes=['ham', 'spam'])\n",
    "bnb.partial_fit(spamtrain_dtm, spam_target)\n",
    "\n",
    "print(\"Multinomial Naive Bayes On Easy Ham Versus Spam:\")\n",
    "mnb_ham_pred = mnb.predict(hamtest_dtm)\n",
    "mnb_spam_pred = mnb.predict(spamtest_dtm)\n",
    "ham_target = ['ham'] * len(hamtest)\n",
    "spam_target = ['spam'] * len(spamtest)\n",
    "mnb_ham_cm = confusion_matrix(ham_target, mnb_ham_pred)\n",
    "mnb_spam_cm = confusion_matrix(spam_target, mnb_spam_pred)\n",
    "mnb_TP = mnb_ham_cm[0][0]\n",
    "mnb_FN = mnb_spam_cm[1][0]\n",
    "mnb_TPR = mnb_TP/(mnb_TP + mnb_FN)\n",
    "mnb_FNR = 1 - mnb_TPR\n",
    "print(\"True Positive Rate:\" + str(mnb_TPR))\n",
    "print(\"False Negative Rate:\" + str(mnb_FNR))\n",
    "print(\"Bernoulli Naive Bayes On Easy Ham Versus Spam:\")\n",
    "bnb_ham_pred = bnb.predict(hamtest_dtm)\n",
    "bnb_spam_pred = bnb.predict(spamtest_dtm)\n",
    "bnb_ham_cm = confusion_matrix(ham_target, bnb_ham_pred)\n",
    "bnb_spam_cm = confusion_matrix(spam_target, bnb_spam_pred)\n",
    "bnb_TP = bnb_ham_cm[0][0]\n",
    "bnb_FN = bnb_spam_cm[1][0]\n",
    "bnb_TPR = bnb_TP/(bnb_TP + bnb_FN)\n",
    "bnb_FNR = 1 - bnb_TPR\n",
    "print(\"True Positive Rate:\" + str(bnb_TPR))\n",
    "print(\"False Negative Rate:\" + str(bnb_FNR))\n",
    "\n"
   ]
  },
  {
   "attachments": {},
   "cell_type": "markdown",
   "metadata": {},
   "source": [
    "### 2.2 Answer the following questions:\n",
    "##### a) What does the CountVectorizer do?\n",
    "Answer 2.2.a\n",
    "##### b) What is the difference between Multinomial Naive Bayes and Bernoulli Naive Bayes\n",
    "Answer 2.2.b\n"
   ]
  },
  {
   "attachments": {},
   "cell_type": "markdown",
   "metadata": {
    "id": "wDFS3uFFUcS7"
   },
   "source": [
    "### 3.1 Run the two models:\n",
    "Run (don't retrain) the two models from Question 2 on spam versus hard-ham. Does the performance differ compared to question 2 when the model was run on spam versus easy-ham? If so, why?"
   ]
  },
  {
   "cell_type": "code",
   "execution_count": null,
   "metadata": {
    "id": "gool_zb8Qzzy"
   },
   "outputs": [],
   "source": [
    "# Write your code here"
   ]
  },
  {
   "attachments": {},
   "cell_type": "markdown",
   "metadata": {},
   "source": [
    "Answer 3.1:"
   ]
  },
  {
   "attachments": {},
   "cell_type": "markdown",
   "metadata": {},
   "source": [
    "### 3.2 Retrain\n",
    "Retrain new Multinomial and Bernolli Naive Bayes classifers on the combined (easy+hard) ham and spam. Now evaluate on spam versus hard-ham as in 3.1. Also evaluate on spam versus easy-ham. Compare the performance with question 2 and 3.1. What do you observe?"
   ]
  },
  {
   "cell_type": "code",
   "execution_count": null,
   "metadata": {},
   "outputs": [],
   "source": [
    "# Write your code here"
   ]
  },
  {
   "attachments": {},
   "cell_type": "markdown",
   "metadata": {},
   "source": [
    "Answer 3.2:"
   ]
  },
  {
   "attachments": {},
   "cell_type": "markdown",
   "metadata": {},
   "source": [
    "### 3.3 Further improvements\n",
    "Do you have any suggestions for how performance could be further improved? You don't have to implement them, just present your ideas."
   ]
  },
  {
   "attachments": {},
   "cell_type": "markdown",
   "metadata": {},
   "source": [
    "Answer 3.3:"
   ]
  }
 ],
 "metadata": {
  "colab": {
   "provenance": []
  },
  "kernelspec": {
   "display_name": "Python 3",
   "language": "python",
   "name": "python3"
  },
  "language_info": {
   "codemirror_mode": {
    "name": "ipython",
    "version": 3
   },
   "file_extension": ".py",
   "mimetype": "text/x-python",
   "name": "python",
   "nbconvert_exporter": "python",
   "pygments_lexer": "ipython3",
   "version": "3.9.7"
  },
  "vscode": {
   "interpreter": {
    "hash": "aee8b7b246df8f9039afb4144a1f6fd8d2ca17a180786b69acc140d282b71a49"
   }
  }
 },
 "nbformat": 4,
 "nbformat_minor": 1
}
