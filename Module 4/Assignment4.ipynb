{
 "cells": [
  {
   "attachments": {},
   "cell_type": "markdown",
   "metadata": {
    "id": "-sTsDfIVKsmL"
   },
   "source": [
    "# DAT405/DIT407 Introduction to Data Science and AI \n",
    "## 2022-2023, Reading Period 4\n",
    "## Assignment 4: Spam classification using Naïve Bayes \n",
    "The exercise takes place in this notebook environment.\n",
    "Hints:\n",
    "You can execute certain linux shell commands by prefixing the command with `!`. You can insert Markdown cells and code cells. The first you can use for documenting and explaining your results the second you can use writing code snippets that execute the tasks required.  \n",
    "\n",
    "In this assignment you will implement a Naïve Bayes classifier in Python that will classify emails into spam and non-spam (“ham”) classes.  Your program should be able to train on a given set of spam and “ham” datasets. \n",
    "You will work with the datasets available at https://spamassassin.apache.org/old/publiccorpus/. There are three types of files in this location: \n",
    "-\teasy-ham: non-spam messages typically quite easy to differentiate from spam messages. \n",
    "-\thard-ham: non-spam messages more difficult to differentiate \n",
    "-\tspam: spam messages \n",
    "\n",
    "**Execute the cell below to download and extract the data into the environment of the notebook -- it will take a few seconds.** If you chose to use Jupyter notebooks you will have to run the commands in the cell below on your local computer, with Windows you can use \n",
    "7zip (https://www.7-zip.org/download.html) to decompress the data.\n",
    "\n",
    "**What to submit:** \n",
    "Convert the notebook to a pdf-file and submit it. Make sure all cells are executed so all your code and its results are included. Double check the pdf displays correctly before you submit it."
   ]
  },
  {
   "cell_type": "code",
   "execution_count": 6,
   "metadata": {
    "id": "Wa37fBwRF-xe"
   },
   "outputs": [
    {
     "name": "stderr",
     "output_type": "stream",
     "text": [
      "--2023-04-21 14:19:18--  https://spamassassin.apache.org/old/publiccorpus/20021010_easy_ham.tar.bz2\n",
      "Resolving spamassassin.apache.org (spamassassin.apache.org)... 151.101.2.132\n",
      "Connecting to spamassassin.apache.org (spamassassin.apache.org)|151.101.2.132|:443... connected.\n",
      "HTTP request sent, awaiting response... 200 OK\n",
      "Length: 1677144 (1,6M) [application/x-bzip2]\n",
      "Saving to: '20021010_easy_ham.tar.bz2'\n",
      "\n",
      "     0K .......... .......... .......... .......... ..........  3% 10,1M 0s\n",
      "    50K .......... .......... .......... .......... ..........  6% 2,45M 0s\n",
      "   100K .......... .......... .......... .......... ..........  9% 3,29M 0s\n",
      "   150K .......... .......... .......... .......... .......... 12% 2,55M 0s\n",
      "   200K .......... .......... .......... .......... .......... 15% 2,54M 0s\n",
      "   250K .......... .......... .......... .......... .......... 18% 2,87M 0s\n",
      "   300K .......... .......... .......... .......... .......... 21% 2,06M 0s\n",
      "   350K .......... .......... .......... .......... .......... 24% 2,82M 0s\n",
      "   400K .......... .......... .......... .......... .......... 27% 1,40M 0s\n",
      "   450K .......... .......... .......... .......... .......... 30% 2,09M 0s\n",
      "   500K .......... .......... .......... .......... .......... 33% 4,30M 0s\n",
      "   550K .......... .......... .......... .......... .......... 36% 3,19M 0s\n",
      "   600K .......... .......... .......... .......... .......... 39% 2,53M 0s\n",
      "   650K .......... .......... .......... .......... .......... 42% 1,46M 0s\n",
      "   700K .......... .......... .......... .......... .......... 45% 2,54M 0s\n",
      "   750K .......... .......... .......... .......... .......... 48% 2,58M 0s\n",
      "   800K .......... .......... .......... .......... .......... 51% 2,80M 0s\n",
      "   850K .......... .......... .......... .......... .......... 54% 2,54M 0s\n",
      "   900K .......... .......... .......... .......... .......... 58% 2,65M 0s\n",
      "   950K .......... .......... .......... .......... .......... 61% 2,02M 0s\n",
      "  1000K .......... .......... .......... .......... .......... 64% 2,88M 0s\n",
      "  1050K .......... .......... .......... .......... .......... 67% 2,00M 0s\n",
      "  1100K .......... .......... .......... .......... .......... 70% 3,14M 0s\n",
      "  1150K .......... .......... .......... .......... .......... 73% 2,91M 0s\n",
      "  1200K .......... .......... .......... .......... .......... 76% 2,10M 0s\n",
      "  1250K .......... .......... .......... .......... .......... 79% 2,58M 0s\n",
      "  1300K .......... .......... .......... .......... .......... 82% 1,30M 0s\n",
      "  1350K .......... .......... .......... .......... .......... 85% 1,06M 0s\n",
      "  1400K .......... .......... .......... .......... .......... 88% 2,28M 0s\n",
      "  1450K .......... .......... .......... .......... .......... 91% 1,12M 0s\n",
      "  1500K .......... .......... .......... .......... .......... 94% 2,21M 0s\n",
      "  1550K .......... .......... .......... .......... .......... 97% 1,85M 0s\n",
      "  1600K .......... .......... .......... .......              100% 1,58M=0,7s\n",
      "\n",
      "2023-04-21 14:19:19 (2,20 MB/s) - '20021010_easy_ham.tar.bz2' saved [1677144/1677144]\n",
      "\n",
      "--2023-04-21 14:19:20--  https://spamassassin.apache.org/old/publiccorpus/20021010_hard_ham.tar.bz2\n",
      "Resolving spamassassin.apache.org (spamassassin.apache.org)... 151.101.2.132\n",
      "Connecting to spamassassin.apache.org (spamassassin.apache.org)|151.101.2.132|:443... connected.\n",
      "HTTP request sent, awaiting response... 200 OK\n",
      "Length: 1021126 (997K) [application/x-bzip2]\n",
      "Saving to: '20021010_hard_ham.tar.bz2'\n",
      "\n",
      "     0K .......... .......... .......... .......... ..........  5% 7,95M 0s\n",
      "    50K .......... .......... .......... .......... .......... 10% 9,12M 0s\n",
      "   100K .......... .......... .......... .......... .......... 15% 13,7M 0s\n",
      "   150K .......... .......... .......... .......... .......... 20% 4,80M 0s\n",
      "   200K .......... .......... .......... .......... .......... 25% 2,01M 0s\n",
      "   250K .......... .......... .......... .......... .......... 30% 2,50M 0s\n",
      "   300K .......... .......... .......... .......... .......... 35% 1020K 0s\n",
      "   350K .......... .......... .......... .......... .......... 40% 2,16M 0s\n",
      "   400K .......... .......... .......... .......... .......... 45% 2,08M 0s\n",
      "   450K .......... .......... .......... .......... .......... 50% 1,04M 0s\n",
      "   500K .......... .......... .......... .......... .......... 55% 7,28M 0s\n",
      "   550K .......... .......... .......... .......... .......... 60%  857K 0s\n",
      "   600K .......... .......... .......... .......... .......... 65% 2,00M 0s\n",
      "   650K .......... .......... .......... .......... .......... 70% 1,02M 0s\n",
      "   700K .......... .......... .......... .......... .......... 75% 2,86M 0s\n",
      "   750K .......... .......... .......... .......... .......... 80% 2,85M 0s\n",
      "   800K .......... .......... .......... .......... .......... 85% 3,20M 0s\n",
      "   850K .......... .......... .......... .......... .......... 90% 1,37M 0s\n",
      "   900K .......... .......... .......... .......... .......... 95% 2,32M 0s\n",
      "   950K .......... .......... .......... .......... .......   100% 2,16M=0,5s\n",
      "\n",
      "2023-04-21 14:19:20 (2,05 MB/s) - '20021010_hard_ham.tar.bz2' saved [1021126/1021126]\n",
      "\n",
      "--2023-04-21 14:19:20--  https://spamassassin.apache.org/old/publiccorpus/20021010_spam.tar.bz2\n",
      "Resolving spamassassin.apache.org (spamassassin.apache.org)... 151.101.2.132\n",
      "Connecting to spamassassin.apache.org (spamassassin.apache.org)|151.101.2.132|:443... connected.\n",
      "HTTP request sent, awaiting response... 200 OK\n",
      "Length: 1192582 (1,1M) [application/x-bzip2]\n",
      "Saving to: '20021010_spam.tar.bz2'\n",
      "\n",
      "     0K .......... .......... .......... .......... ..........  4% 13,2M 0s\n",
      "    50K .......... .......... .......... .......... ..........  8% 14,9M 0s\n",
      "   100K .......... .......... .......... .......... .......... 12% 2,61M 0s\n",
      "   150K .......... .......... .......... .......... .......... 17%  971K 0s\n",
      "   200K .......... .......... .......... .......... .......... 21% 2,73M 0s\n",
      "   250K .......... .......... .......... .......... .......... 25% 2,39M 0s\n",
      "   300K .......... .......... .......... .......... .......... 30% 1,10M 0s\n",
      "   350K .......... .......... .......... .......... .......... 34% 1,36M 0s\n",
      "   400K .......... .......... .......... .......... .......... 38% 1,62M 0s\n",
      "   450K .......... .......... .......... .......... .......... 42% 3,10M 0s\n",
      "   500K .......... .......... .......... .......... .......... 47% 2,11M 0s\n",
      "   550K .......... .......... .......... .......... .......... 51% 1,11M 0s\n",
      "   600K .......... .......... .......... .......... .......... 55% 2,11M 0s\n",
      "   650K .......... .......... .......... .......... .......... 60%  989K 0s\n",
      "   700K .......... .......... .......... .......... .......... 64% 2,81M 0s\n",
      "   750K .......... .......... .......... .......... .......... 68% 1,15M 0s\n",
      "   800K .......... .......... .......... .......... .......... 72% 2,44M 0s\n",
      "   850K .......... .......... .......... .......... .......... 77% 2,98M 0s\n",
      "   900K .......... .......... .......... .......... .......... 81% 1,16M 0s\n",
      "   950K .......... .......... .......... .......... .......... 85% 2,72M 0s\n",
      "  1000K .......... .......... .......... .......... .......... 90% 2,24M 0s\n",
      "  1050K .......... .......... .......... .......... .......... 94% 1,23M 0s\n",
      "  1100K .......... .......... .......... .......... .......... 98% 2,12M 0s\n",
      "  1150K .......... ....                                       100% 21,3M=0,6s\n",
      "\n",
      "2023-04-21 14:19:21 (1,82 MB/s) - '20021010_spam.tar.bz2' saved [1192582/1192582]\n",
      "\n"
     ]
    }
   ],
   "source": [
    "#Download and extract data\n",
    "!wget https://spamassassin.apache.org/old/publiccorpus/20021010_easy_ham.tar.bz2\n",
    "!wget https://spamassassin.apache.org/old/publiccorpus/20021010_hard_ham.tar.bz2\n",
    "!wget https://spamassassin.apache.org/old/publiccorpus/20021010_spam.tar.bz2\n",
    "!tar -xjf 20021010_easy_ham.tar.bz2\n",
    "!tar -xjf 20021010_hard_ham.tar.bz2\n",
    "!tar -xjf 20021010_spam.tar.bz2"
   ]
  },
  {
   "cell_type": "markdown",
   "metadata": {
    "id": "tdH1XTepLjZ3"
   },
   "source": [
    "*The* data is now in the three folders `easy_ham`, `hard_ham`, and `spam`."
   ]
  },
  {
   "cell_type": "code",
   "execution_count": 8,
   "metadata": {
    "id": "A53Gw00fBLG2"
   },
   "outputs": [
    {
     "name": "stderr",
     "output_type": "stream",
     "text": [
      "'ls' is not recognized as an internal or external command,\n",
      "operable program or batch file.\n"
     ]
    }
   ],
   "source": [
    "!ls -lah"
   ]
  },
  {
   "attachments": {},
   "cell_type": "markdown",
   "metadata": {
    "id": "DGlWPVnSNzT7"
   },
   "source": [
    "### 1. Preprocessing: \n",
    "\n",
    "##### 1.1 Look at a few emails from easy_ham, hard_ham and spam. Do you think you would be able to classify the emails just by inspection? How do you think a succesful model can learn the difference between the different classes of emails?\n"
   ]
  },
  {
   "cell_type": "code",
   "execution_count": null,
   "metadata": {
    "id": "J2sllUWXKblD"
   },
   "outputs": [],
   "source": [
    "# Write your code for here for looking a few emails"
   ]
  },
  {
   "attachments": {},
   "cell_type": "markdown",
   "metadata": {},
   "source": [
    "Answer 1.1:"
   ]
  },
  {
   "attachments": {},
   "cell_type": "markdown",
   "metadata": {},
   "source": [
    "##### 1.2 Note that the email files contain a lot of extra information, besides the actual message. Ignore that for now and run on the entire text (in the optional part further down can experiment with filtering out the headers and footers). We don’t want to train and test on the same data (it might help to reflect on why if you don't recall). Split the spam and the ham datasets in a training set and a test set. (`hamtrain`, `spamtrain`, `hamtest`, and `spamtest`). Use only the easy_ham part as ham data for quesions 1 and 2."
   ]
  },
  {
   "cell_type": "code",
   "execution_count": null,
   "metadata": {},
   "outputs": [],
   "source": [
    "# Write your code for here for splitting the data"
   ]
  },
  {
   "attachments": {},
   "cell_type": "markdown",
   "metadata": {
    "id": "mnbrbI0_OKCF"
   },
   "source": [
    "### 2.1 Write a Python program that: \n",
    "1.\tUses the four datasets from Question 1 (`hamtrain`, `spamtrain`, `hamtest`, and `spamtest`) \n",
    "2.\tTrains a Naïve Bayes classifier (use the [scikit-learn library](https://scikit-learn.org/stable/)) on `hamtrain` and `spamtrain`, that classifies the test sets and reports True Positive and False Negative rates on the `hamtest` and `spamtest` datasets. Use `CountVectorizer` ([Documentation here](https://scikit-learn.org/stable/modules/generated/sklearn.feature_extraction.text.CountVectorizer.html#sklearn.feature_extraction.text.CountVectorizer)) to transform the email texts into vectors. Please note that there are different types of Naïve Bayes Classifier in scikit-learn ([Documentation here](https://scikit-learn.org/stable/modules/naive_bayes.html)). Test two of these classifiers that are well suited for this problem:\n",
    "- Multinomial Naive Bayes  \n",
    "- Bernoulli Naive Bayes. \n",
    "\n",
    "Please inspect the documentation to ensure input to the classifiers is appropriate before you start coding. \n",
    "\n"
   ]
  },
  {
   "cell_type": "code",
   "execution_count": null,
   "metadata": {
    "id": "MJERHSCcGNaW"
   },
   "outputs": [],
   "source": [
    "# Write your code here"
   ]
  },
  {
   "attachments": {},
   "cell_type": "markdown",
   "metadata": {},
   "source": [
    "### 2.2 Answer the following questions:\n",
    "##### a) What does the CountVectorizer do?\n",
    "Answer 2.2.a\n",
    "##### b) What is the difference between Multinomial Naive Bayes and Bernoulli Naive Bayes\n",
    "Answer 2.2.b\n"
   ]
  },
  {
   "attachments": {},
   "cell_type": "markdown",
   "metadata": {
    "id": "wDFS3uFFUcS7"
   },
   "source": [
    "### 3.1 Run the two models:\n",
    "Run (don't retrain) the two models from Question 2 on spam versus hard-ham. Does the performance differ compared to question 2 when the model was run on spam versus easy-ham? If so, why?"
   ]
  },
  {
   "cell_type": "code",
   "execution_count": null,
   "metadata": {
    "id": "gool_zb8Qzzy"
   },
   "outputs": [],
   "source": [
    "# Write your code here"
   ]
  },
  {
   "attachments": {},
   "cell_type": "markdown",
   "metadata": {},
   "source": [
    "Answer 3.1:"
   ]
  },
  {
   "attachments": {},
   "cell_type": "markdown",
   "metadata": {},
   "source": [
    "### 3.2 Retrain\n",
    "Retrain new Multinomial and Bernolli Naive Bayes classifers on the combined (easy+hard) ham and spam. Now evaluate on spam versus hard-ham as in 3.1. Also evaluate on spam versus easy-ham. Compare the performance with question 2 and 3.1. What do you observe?"
   ]
  },
  {
   "cell_type": "code",
   "execution_count": null,
   "metadata": {},
   "outputs": [],
   "source": [
    "# Write your code here"
   ]
  },
  {
   "attachments": {},
   "cell_type": "markdown",
   "metadata": {},
   "source": [
    "Answer 3.2:"
   ]
  },
  {
   "attachments": {},
   "cell_type": "markdown",
   "metadata": {},
   "source": [
    "### 3.3 Further improvements\n",
    "Do you have any suggestions for how performance could be further improved? You don't have to implement them, just present your ideas."
   ]
  },
  {
   "attachments": {},
   "cell_type": "markdown",
   "metadata": {},
   "source": [
    "Answer 3.3:"
   ]
  }
 ],
 "metadata": {
  "colab": {
   "provenance": []
  },
  "kernelspec": {
   "display_name": "Python 3",
   "language": "python",
   "name": "python3"
  },
  "language_info": {
   "codemirror_mode": {
    "name": "ipython",
    "version": 3
   },
   "file_extension": ".py",
   "mimetype": "text/x-python",
   "name": "python",
   "nbconvert_exporter": "python",
   "pygments_lexer": "ipython3",
   "version": "3.9.7"
  },
  "vscode": {
   "interpreter": {
    "hash": "aee8b7b246df8f9039afb4144a1f6fd8d2ca17a180786b69acc140d282b71a49"
   }
  }
 },
 "nbformat": 4,
 "nbformat_minor": 1
}
